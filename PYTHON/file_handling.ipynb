{
 "cells": [
  {
   "cell_type": "markdown",
   "id": "4cc311f7",
   "metadata": {},
   "source": [
    "### *File handling* \n",
    "\n",
    "| Mode   | Description                                                  |\n",
    "| ------ | ------------------------------------------------------------ |\n",
    "| \"r\"  | Read mode (default), error if file doesn't exist             |\n",
    "| \"w\"  | Write mode, creates a file if not exist, overwrites existing |\n",
    "| \"a\"  | Append mode, adds content to end of file                     |\n",
    "| \"x\"  | Create mode, error if file already exists                    |\n",
    "                                         |\n",
    "                          "
   ]
  },
  {
   "cell_type": "code",
   "execution_count": null,
   "id": "954225ce",
   "metadata": {},
   "outputs": [],
   "source": [
    "file = open('demo.txt', 'r') #r for read and demo.txt name of file\n",
    "file.read()\n",
    "file.close()"
   ]
  },
  {
   "cell_type": "code",
   "execution_count": 7,
   "id": "3aa02de9",
   "metadata": {},
   "outputs": [],
   "source": [
    "file = open(\"demo.txt\", 'r')\n",
    "file.readline()\n",
    "file.close()"
   ]
  },
  {
   "cell_type": "code",
   "execution_count": 10,
   "id": "f4e79a82",
   "metadata": {},
   "outputs": [],
   "source": [
    "file = open('demo.txt','a')\n",
    "#file.readlines()\n",
    "file.close()"
   ]
  },
  {
   "cell_type": "code",
   "execution_count": 13,
   "id": "7c0f6f81",
   "metadata": {},
   "outputs": [],
   "source": [
    "file = open('demo.txt', 'w')\n",
    "#file.read()\n",
    "file.write(\"Hello world\")\n",
    "file.close()\n"
   ]
  },
  {
   "cell_type": "code",
   "execution_count": 15,
   "id": "10a33a72",
   "metadata": {},
   "outputs": [],
   "source": [
    "file = open(\"demo.txt\",'r')\n",
    "file.read()\n",
    "file.close()"
   ]
  },
  {
   "cell_type": "code",
   "execution_count": 17,
   "id": "5147408d",
   "metadata": {},
   "outputs": [],
   "source": [
    "####append meffilthod\n",
    "file = open(\"demo.txt\",'a')\n",
    "file.write(\"hello\")\n",
    "file.close()"
   ]
  },
  {
   "cell_type": "code",
   "execution_count": 18,
   "id": "ca40f8a4",
   "metadata": {},
   "outputs": [],
   "source": [
    "file = open(\"demo.txt\",'r')\n",
    "file.close()"
   ]
  },
  {
   "cell_type": "code",
   "execution_count": 22,
   "id": "0f27f18f",
   "metadata": {},
   "outputs": [],
   "source": [
    "file = open(\"text.txt\",'a')\n",
    "file.write(\"hello i am sidra\")\n",
    "file.close()"
   ]
  },
  {
   "cell_type": "code",
   "execution_count": 23,
   "id": "b4ad21e3",
   "metadata": {},
   "outputs": [
    {
     "data": {
      "text/plain": [
       "'hello i am sidrahello i am sidrahello i am sidrahello i am sidra'"
      ]
     },
     "execution_count": 23,
     "metadata": {},
     "output_type": "execute_result"
    }
   ],
   "source": [
    "open(\"text.txt\",'r').read()"
   ]
  },
  {
   "cell_type": "code",
   "execution_count": 1,
   "id": "2bfd9b26",
   "metadata": {},
   "outputs": [],
   "source": [
    "###create mode\n",
    "file = open(\"sidra.txt\",'x')\n",
    "file.write(\"how are you ?\")\n",
    "file.close()"
   ]
  },
  {
   "cell_type": "code",
   "execution_count": null,
   "id": "fa5b01dc",
   "metadata": {},
   "outputs": [],
   "source": []
  }
 ],
 "metadata": {
  "kernelspec": {
   "display_name": "Python 3",
   "language": "python",
   "name": "python3"
  },
  "language_info": {
   "codemirror_mode": {
    "name": "ipython",
    "version": 3
   },
   "file_extension": ".py",
   "mimetype": "text/x-python",
   "name": "python",
   "nbconvert_exporter": "python",
   "pygments_lexer": "ipython3",
   "version": "3.11.9"
  }
 },
 "nbformat": 4,
 "nbformat_minor": 5
}
