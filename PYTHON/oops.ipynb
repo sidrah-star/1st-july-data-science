{
 "cells": [
  {
   "cell_type": "markdown",
   "id": "00803f47",
   "metadata": {},
   "source": [
    "OOPS CONCEPT IN PYTHON"
   ]
  },
  {
   "cell_type": "code",
   "execution_count": null,
   "id": "d36f17f9",
   "metadata": {},
   "outputs": [],
   "source": [
    "#Global variable\n",
    "##Local cariable\n",
    "###polymorphism\n",
    "###inheritance\n",
    "###encapsulation"
   ]
  },
  {
   "cell_type": "code",
   "execution_count": 43,
   "id": "aef4052d",
   "metadata": {},
   "outputs": [],
   "source": [
    "class Class_name:\n",
    "    pass"
   ]
  },
  {
   "cell_type": "code",
   "execution_count": null,
   "id": "cec526bf",
   "metadata": {},
   "outputs": [
    {
     "name": "stdout",
     "output_type": "stream",
     "text": [
      "my name is Sidra and my age is  20\n"
     ]
    }
   ],
   "source": [
    "class Student:\n",
    "    name = \"Sidra\" ###class variable\n",
    "    age = 20 ###class variable\n",
    "    print(f\"my name is {name} and my age is  {age}\")\n",
    "obj_st=Student()"
   ]
  },
  {
   "cell_type": "code",
   "execution_count": 9,
   "id": "1ee44643",
   "metadata": {},
   "outputs": [
    {
     "data": {
      "text/plain": [
       "'Sidra'"
      ]
     },
     "execution_count": 9,
     "metadata": {},
     "output_type": "execute_result"
    }
   ],
   "source": [
    "obj_st.name"
   ]
  },
  {
   "cell_type": "code",
   "execution_count": 10,
   "id": "dd44f6e4",
   "metadata": {},
   "outputs": [
    {
     "data": {
      "text/plain": [
       "20"
      ]
     },
     "execution_count": 10,
     "metadata": {},
     "output_type": "execute_result"
    }
   ],
   "source": [
    "obj_st.age"
   ]
  },
  {
   "cell_type": "code",
   "execution_count": null,
   "id": "6a1037cc",
   "metadata": {},
   "outputs": [],
   "source": [
    "class Student:\n",
    "    name = \"Sidra\"\n",
    "    age = 20\n",
    "    def info(self):## info is method and self is parameter or object keyword\n",
    "        print(\"this is my first menthod\")\n",
    "        print(\"How are u all\")\n",
    "\n",
    "dt_obj = Student()"
   ]
  },
  {
   "cell_type": "code",
   "execution_count": 14,
   "id": "ba06ab84",
   "metadata": {},
   "outputs": [
    {
     "name": "stdout",
     "output_type": "stream",
     "text": [
      "this is my first menthod\n",
      "How are u all\n"
     ]
    }
   ],
   "source": [
    "dt_obj.info()"
   ]
  },
  {
   "cell_type": "code",
   "execution_count": 23,
   "id": "86e2c31f",
   "metadata": {},
   "outputs": [],
   "source": [
    "class Student:\n",
    "    name = \"Sidra\"\n",
    "    age = 20\n",
    "    def info(self):## info is method and self is parameter or object keyword\n",
    "        print(name)\n",
    "        print(age)\n",
    "\n",
    "dt_obj = Student()"
   ]
  },
  {
   "cell_type": "code",
   "execution_count": 21,
   "id": "02162904",
   "metadata": {},
   "outputs": [],
   "source": [
    "class Student:\n",
    "    name = \"Sidra\"\n",
    "    age = 20\n",
    "    def info(self):## info is method and self is parameter or object keyword\n",
    "        print(f\"my name is {self.name} and my age is {self.age}\")\n",
    "        #print(age)\n",
    "\n",
    "dt_obj = Student()"
   ]
  },
  {
   "cell_type": "code",
   "execution_count": 22,
   "id": "7172e1a1",
   "metadata": {},
   "outputs": [
    {
     "name": "stdout",
     "output_type": "stream",
     "text": [
      "my name is Sidra and my age is 20\n"
     ]
    }
   ],
   "source": [
    "dt_obj.info()"
   ]
  },
  {
   "cell_type": "markdown",
   "id": "2c8c8a06",
   "metadata": {},
   "source": [
    "Inheritance\n",
    "\n",
    "|#types of inheritance\n",
    "\n",
    "single inheritance\n",
    "\n",
    "multiple inheritance\n",
    "\n",
    "multilevel inheritance\n",
    "\n",
    "hierarchical inheritance\n",
    "\n",
    "hybrid inheritance"
   ]
  },
  {
   "cell_type": "code",
   "execution_count": 25,
   "id": "64512665",
   "metadata": {},
   "outputs": [],
   "source": [
    "class College:\n",
    "    pass\n",
    "class Student:\n",
    "    pass"
   ]
  },
  {
   "cell_type": "code",
   "execution_count": 26,
   "id": "9f10bf07",
   "metadata": {},
   "outputs": [],
   "source": [
    "###single inheritance\n",
    "class College:\n",
    "    pass\n",
    "class Student(College):\n",
    "    pass"
   ]
  },
  {
   "cell_type": "code",
   "execution_count": 28,
   "id": "cc4b75c7",
   "metadata": {},
   "outputs": [
    {
     "name": "stdout",
     "output_type": "stream",
     "text": [
      "Graphic Era University\n",
      "Dehradun\n",
      "Sidra\n",
      "24022595\n"
     ]
    }
   ],
   "source": [
    "class College:\n",
    "    college_name= \"Graphic Era University\"\n",
    "    college_adress = \"Dehradun\"\n",
    "class Student(College):\n",
    "    student_name = \"Sidra\"\n",
    "    student_id = \"24022595\"\n",
    "st_obj = Student()\n",
    "print(st_obj.college_name)\n",
    "print(st_obj.college_adress)\n",
    "print(st_obj.student_name)\n",
    "print(st_obj.student_id)"
   ]
  },
  {
   "cell_type": "code",
   "execution_count": 31,
   "id": "4b72b27f",
   "metadata": {},
   "outputs": [
    {
     "ename": "AttributeError",
     "evalue": "'Student' object has no attribute 'info'",
     "output_type": "error",
     "traceback": [
      "\u001b[1;31m---------------------------------------------------------------------------\u001b[0m",
      "\u001b[1;31mAttributeError\u001b[0m                            Traceback (most recent call last)",
      "Cell \u001b[1;32mIn[31], line 1\u001b[0m\n\u001b[1;32m----> 1\u001b[0m \u001b[43mst_obj\u001b[49m\u001b[38;5;241;43m.\u001b[39;49m\u001b[43minfo\u001b[49m()\n",
      "\u001b[1;31mAttributeError\u001b[0m: 'Student' object has no attribute 'info'"
     ]
    }
   ],
   "source": [
    "st_obj.info()"
   ]
  },
  {
   "cell_type": "code",
   "execution_count": 35,
   "id": "8fb76a85",
   "metadata": {},
   "outputs": [
    {
     "name": "stdout",
     "output_type": "stream",
     "text": [
      "Sidra\n",
      "1234\n",
      "Mu\n"
     ]
    }
   ],
   "source": [
    "###multiple inheritance\n",
    "class Father:\n",
    "    father_name = \"Sidra\"\n",
    "    father_id = \"1234\"\n",
    "class Uncle:\n",
    "    uncle_name = \"Mu\"\n",
    "class Child(Father,Uncle):\n",
    "    pass\n",
    "\n",
    "obj_child = Child()\n",
    "print(obj_child.father_name)\n",
    "print(obj_child.father_id)\n",
    "print(obj_child.uncle_name)"
   ]
  },
  {
   "cell_type": "code",
   "execution_count": 37,
   "id": "314a9a9a",
   "metadata": {},
   "outputs": [
    {
     "name": "stdout",
     "output_type": "stream",
     "text": [
      "Ritik\n",
      "12345\n",
      "Rohit Kumar\n",
      "12345\n"
     ]
    }
   ],
   "source": [
    "##Multilevel inheritance\n",
    "class Grandfather:\n",
    "    grandfather_name = \"Ritik\"\n",
    "    grandfather_id = \"12345\"\n",
    "class Father(Grandfather):\n",
    "    father_name = \"Rohit Kumar\"\n",
    "    father_id =\"12345\"\n",
    "class Child(Father):\n",
    "    pass\n",
    "\n",
    "obj_child = Child()\n",
    "print(obj_child.grandfather_name)\n",
    "print(obj_child.grandfather_id)\n",
    "print(obj_child.father_name)\n",
    "print(obj_child.father_id)\n"
   ]
  },
  {
   "cell_type": "markdown",
   "id": "85389a08",
   "metadata": {},
   "source": [
    "Polymorphishm"
   ]
  },
  {
   "cell_type": "code",
   "execution_count": 38,
   "id": "0a2eef31",
   "metadata": {},
   "outputs": [
    {
     "name": "stdout",
     "output_type": "stream",
     "text": [
      "hello\n"
     ]
    }
   ],
   "source": [
    "print(\"hello\")"
   ]
  },
  {
   "cell_type": "code",
   "execution_count": 39,
   "id": "7679ffe9",
   "metadata": {},
   "outputs": [
    {
     "name": "stdout",
     "output_type": "stream",
     "text": [
      "[1, 2, 3, 4, 5]\n"
     ]
    }
   ],
   "source": [
    "lst =[1,2,3,4,5]\n",
    "print(lst)"
   ]
  },
  {
   "cell_type": "code",
   "execution_count": 40,
   "id": "6345455d",
   "metadata": {},
   "outputs": [
    {
     "data": {
      "text/plain": [
       "list"
      ]
     },
     "execution_count": 40,
     "metadata": {},
     "output_type": "execute_result"
    }
   ],
   "source": [
    "type(lst)"
   ]
  },
  {
   "cell_type": "code",
   "execution_count": 41,
   "id": "b00fcb01",
   "metadata": {},
   "outputs": [
    {
     "data": {
      "text/plain": [
       "str"
      ]
     },
     "execution_count": 41,
     "metadata": {},
     "output_type": "execute_result"
    }
   ],
   "source": [
    "type(\"hello\")"
   ]
  },
  {
   "cell_type": "code",
   "execution_count": null,
   "id": "9ceb4057",
   "metadata": {},
   "outputs": [],
   "source": [
    "= and == and is"
   ]
  },
  {
   "cell_type": "code",
   "execution_count": null,
   "id": "d8e9d64b",
   "metadata": {},
   "outputs": [],
   "source": [
    "##Encapsulation\n",
    "#private,public,protected\n",
    "class Student:\n",
    "    __name = \"ritik\"\n",
    "    age = 20\n",
    "    _id= \"1234\"\n",
    "st_obj = Student()"
   ]
  },
  {
   "cell_type": "code",
   "execution_count": 3,
   "id": "fb79ec84",
   "metadata": {},
   "outputs": [
    {
     "data": {
      "text/plain": [
       "20"
      ]
     },
     "execution_count": 3,
     "metadata": {},
     "output_type": "execute_result"
    }
   ],
   "source": [
    "st_obj.age"
   ]
  },
  {
   "cell_type": "code",
   "execution_count": 11,
   "id": "381d43c7",
   "metadata": {},
   "outputs": [
    {
     "ename": "AttributeError",
     "evalue": "'Student' object has no attribute '_id'",
     "output_type": "error",
     "traceback": [
      "\u001b[1;31m---------------------------------------------------------------------------\u001b[0m",
      "\u001b[1;31mAttributeError\u001b[0m                            Traceback (most recent call last)",
      "Cell \u001b[1;32mIn[11], line 1\u001b[0m\n\u001b[1;32m----> 1\u001b[0m \u001b[43mst_obj\u001b[49m\u001b[38;5;241;43m.\u001b[39;49m\u001b[43m_id\u001b[49m\n",
      "\u001b[1;31mAttributeError\u001b[0m: 'Student' object has no attribute '_id'"
     ]
    }
   ],
   "source": [
    "st_obj._id"
   ]
  },
  {
   "cell_type": "code",
   "execution_count": 6,
   "id": "1a03335c",
   "metadata": {},
   "outputs": [
    {
     "data": {
      "text/plain": [
       "'ritik'"
      ]
     },
     "execution_count": 6,
     "metadata": {},
     "output_type": "execute_result"
    }
   ],
   "source": [
    "st_obj._Student__name"
   ]
  },
  {
   "cell_type": "code",
   "execution_count": null,
   "id": "536cf257",
   "metadata": {},
   "outputs": [],
   "source": [
    "#bank\n",
    "\n",
    "#account number\n",
    "#method\n",
    "#adress\n",
    "#balance\n",
    "#phone number\n",
    "#total balance\n",
    "\n",
    "#class\n",
    "#method\n",
    "#inheritance\n",
    "\n",
    "#task 1>>>> super function\n",
    "#rask2>>>>> BMI Calculator class\n",
    "\n"
   ]
  },
  {
   "cell_type": "code",
   "execution_count": 14,
   "id": "4ec76ff2",
   "metadata": {},
   "outputs": [
    {
     "ename": "NameError",
     "evalue": "name 'Bank' is not defined",
     "output_type": "error",
     "traceback": [
      "\u001b[1;31m---------------------------------------------------------------------------\u001b[0m",
      "\u001b[1;31mNameError\u001b[0m                                 Traceback (most recent call last)",
      "Cell \u001b[1;32mIn[14], line 1\u001b[0m\n\u001b[1;32m----> 1\u001b[0m \u001b[38;5;28;43;01mclass\u001b[39;49;00m\u001b[43m \u001b[49m\u001b[38;5;21;43;01mBank\u001b[39;49;00m\u001b[43m:\u001b[49m\n\u001b[0;32m      2\u001b[0m \u001b[43m    \u001b[49m\u001b[43m__accountnumber\u001b[49m\u001b[43m \u001b[49m\u001b[38;5;241;43m=\u001b[39;49m\u001b[43m \u001b[49m\u001b[38;5;124;43m\"\u001b[39;49m\u001b[38;5;124;43m1234\u001b[39;49m\u001b[38;5;124;43m\"\u001b[39;49m\n\u001b[0;32m      3\u001b[0m \u001b[43m    \u001b[49m\u001b[43mname\u001b[49m\u001b[43m \u001b[49m\u001b[38;5;241;43m=\u001b[39;49m\u001b[43m \u001b[49m\u001b[38;5;124;43m\"\u001b[39;49m\u001b[38;5;124;43mSidra\u001b[39;49m\u001b[38;5;124;43m\"\u001b[39;49m\n",
      "Cell \u001b[1;32mIn[14], line 11\u001b[0m, in \u001b[0;36mBank\u001b[1;34m()\u001b[0m\n\u001b[0;32m      8\u001b[0m     \u001b[38;5;28mprint\u001b[39m(\u001b[38;5;124m\"\u001b[39m\u001b[38;5;124mthis is bank class\u001b[39m\u001b[38;5;124m\"\u001b[39m)\n\u001b[0;32m      9\u001b[0m     \u001b[38;5;28mprint\u001b[39m(\u001b[38;5;124m\"\u001b[39m\u001b[38;5;124mmy totalbalance is\u001b[39m\u001b[38;5;124m\"\u001b[39m,\u001b[38;5;28mself\u001b[39m\u001b[38;5;241m.\u001b[39mbalance)\n\u001b[1;32m---> 11\u001b[0m obj_bank \u001b[38;5;241m=\u001b[39m \u001b[43mBank\u001b[49m()\n",
      "\u001b[1;31mNameError\u001b[0m: name 'Bank' is not defined"
     ]
    }
   ],
   "source": [
    "class Bank:\n",
    "    __accountnumber = \"1234\"\n",
    "    name = \"Sidra\"\n",
    "    address = \"Mumbai\"\n",
    "    phone_number = \"1234455\"\n",
    "    balance = 0\n",
    "    def info(self):\n",
    "        print(\"this is bank class\")\n",
    "        print(\"my totalbalance is\",self.balance)\n",
    "\n",
    "    obj_bank = Bank()"
   ]
  },
  {
   "cell_type": "code",
   "execution_count": null,
   "id": "6f66c1ec",
   "metadata": {},
   "outputs": [],
   "source": [
    "obj_bank.info()"
   ]
  },
  {
   "cell_type": "code",
   "execution_count": 15,
   "id": "d9ad2bb2",
   "metadata": {},
   "outputs": [],
   "source": [
    "###constructor\n",
    "# init method\n",
    "#__init__\n",
    "\n",
    "class Student:\n",
    "    def __init__(self):\n",
    "        pass\n",
    "\n"
   ]
  },
  {
   "cell_type": "code",
   "execution_count": 17,
   "id": "d4d91245",
   "metadata": {},
   "outputs": [
    {
     "data": {
      "text/plain": [
       "<__main__.Student at 0x11d095daf90>"
      ]
     },
     "execution_count": 17,
     "metadata": {},
     "output_type": "execute_result"
    }
   ],
   "source": [
    "class Student:\n",
    "    def __init__(self):\n",
    "        pass\n",
    "Student()"
   ]
  },
  {
   "cell_type": "code",
   "execution_count": 19,
   "id": "a946e48c",
   "metadata": {},
   "outputs": [
    {
     "data": {
      "text/plain": [
       "'Sidra'"
      ]
     },
     "execution_count": 19,
     "metadata": {},
     "output_type": "execute_result"
    }
   ],
   "source": [
    "class Student:\n",
    "    def __init__(self,name,age):\n",
    "        self.name  = name\n",
    "        self.age = age\n",
    "\n",
    "obj_st = Student(name = \"Sidra\", age=22)\n",
    "obj_st.name \n"
   ]
  },
  {
   "cell_type": "code",
   "execution_count": 20,
   "id": "890562e5",
   "metadata": {},
   "outputs": [
    {
     "data": {
      "text/plain": [
       "22"
      ]
     },
     "execution_count": 20,
     "metadata": {},
     "output_type": "execute_result"
    }
   ],
   "source": [
    "obj_st.age"
   ]
  },
  {
   "cell_type": "code",
   "execution_count": 21,
   "id": "93c579cb",
   "metadata": {},
   "outputs": [
    {
     "name": "stdout",
     "output_type": "stream",
     "text": [
      "Sidra\n",
      "22\n"
     ]
    }
   ],
   "source": [
    "class Student:\n",
    "    def __init__(self,name,age):\n",
    "        self.name  = name\n",
    "        self.age = age\n",
    "\n",
    "obj_st = Student(name = \"Sidra\", age=22)\n",
    "\n",
    "print(obj_st.name)\n",
    "print(obj_st.age)"
   ]
  },
  {
   "cell_type": "code",
   "execution_count": 26,
   "id": "8e46a371",
   "metadata": {},
   "outputs": [],
   "source": [
    "class Student:\n",
    "    def __init__(self, name, age, address):\n",
    "        self.name = name\n",
    "        self.age= age\n",
    "        self.address = address\n",
    "\n",
    "        def display(self):\n",
    "            print(f\"my name is {self.name} and my age is {self.age} and my adress is {self.address}\")\n",
    "\n",
    "obj_st=Student(name=\"Sidra\", age=22, address =\"Mumbai\")"
   ]
  },
  {
   "cell_type": "code",
   "execution_count": 27,
   "id": "fd9afdd7",
   "metadata": {},
   "outputs": [
    {
     "ename": "AttributeError",
     "evalue": "'Student' object has no attribute 'display'",
     "output_type": "error",
     "traceback": [
      "\u001b[1;31m---------------------------------------------------------------------------\u001b[0m",
      "\u001b[1;31mAttributeError\u001b[0m                            Traceback (most recent call last)",
      "Cell \u001b[1;32mIn[27], line 1\u001b[0m\n\u001b[1;32m----> 1\u001b[0m \u001b[43mobj_st\u001b[49m\u001b[38;5;241;43m.\u001b[39;49m\u001b[43mdisplay\u001b[49m()\n",
      "\u001b[1;31mAttributeError\u001b[0m: 'Student' object has no attribute 'display'"
     ]
    }
   ],
   "source": [
    "obj_st.display()"
   ]
  },
  {
   "cell_type": "code",
   "execution_count": 3,
   "id": "e4690142",
   "metadata": {},
   "outputs": [],
   "source": [
    "class Bank:\n",
    "    def __init__(self,name,amount,age, account_number,phone_number, address):\n",
    "        self.name = name\n",
    "        self.age = age\n",
    "        self.amount = amount\n",
    "\n",
    "        self.__account_number = account_number\n",
    "        self.phone_number = phone_number\n",
    "        self.address = address\n",
    "    def deposit(self, amount):\n",
    "        self.amount = self.amount + amount\n",
    "        return self.amount\n",
    "    def withdraw(self, amount):\n",
    "        self.amount = self.amount - amount\n",
    "        return self.amount\n",
    "    def total_balance(self):\n",
    "        return self.amount\n",
    "    def info(self):\n",
    "        print(\"your name: \",self.name)\n",
    "bn_obj = Bank(name = \"ritik\", amount =1000, age=22, account_number=\"1234\",phone_number=\"12345678\",address=\"Mumbai\")\n"
   ]
  },
  {
   "cell_type": "code",
   "execution_count": 31,
   "id": "15bbefe2",
   "metadata": {},
   "outputs": [
    {
     "data": {
      "text/plain": [
       "'Mumbai'"
      ]
     },
     "execution_count": 31,
     "metadata": {},
     "output_type": "execute_result"
    }
   ],
   "source": [
    "bn_obj.address"
   ]
  },
  {
   "cell_type": "code",
   "execution_count": 4,
   "id": "72dcc882",
   "metadata": {},
   "outputs": [
    {
     "data": {
      "text/plain": [
       "1500"
      ]
     },
     "execution_count": 4,
     "metadata": {},
     "output_type": "execute_result"
    }
   ],
   "source": [
    "bn_obj.deposit(500)"
   ]
  },
  {
   "cell_type": "code",
   "execution_count": 33,
   "id": "c6863db1",
   "metadata": {},
   "outputs": [
    {
     "data": {
      "text/plain": [
       "<bound method Bank.total_balance of <__main__.Bank object at 0x0000011D0961DA50>>"
      ]
     },
     "execution_count": 33,
     "metadata": {},
     "output_type": "execute_result"
    }
   ],
   "source": [
    "bn_obj.total_balance"
   ]
  },
  {
   "cell_type": "code",
   "execution_count": null,
   "id": "da604c28",
   "metadata": {},
   "outputs": [],
   "source": []
  }
 ],
 "metadata": {
  "kernelspec": {
   "display_name": "Python 3",
   "language": "python",
   "name": "python3"
  },
  "language_info": {
   "codemirror_mode": {
    "name": "ipython",
    "version": 3
   },
   "file_extension": ".py",
   "mimetype": "text/x-python",
   "name": "python",
   "nbconvert_exporter": "python",
   "pygments_lexer": "ipython3",
   "version": "3.11.9"
  }
 },
 "nbformat": 4,
 "nbformat_minor": 5
}
