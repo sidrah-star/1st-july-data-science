{
 "cells": [
  {
   "cell_type": "markdown",
   "id": "1fef89d6",
   "metadata": {},
   "source": [
    "EXCEPTION HANDLING"
   ]
  },
  {
   "cell_type": "code",
   "execution_count": null,
   "id": "d1418ad9",
   "metadata": {},
   "outputs": [],
   "source": [
    "try:\n",
    "    pass ##main code\n",
    "except:\n",
    "    pass ## error handler\n",
    "else:\n",
    "    pass ##multiple error\n",
    "finally:\n",
    "    pass ##it always runs no matter what"
   ]
  },
  {
   "cell_type": "code",
   "execution_count": null,
   "id": "3f2f987d",
   "metadata": {},
   "outputs": [
    {
     "name": "stdout",
     "output_type": "stream",
     "text": [
      "invalid input invalid literal for int() with base 10: 's'\n"
     ]
    }
   ],
   "source": [
    "try:\n",
    "    a = int(input(\"Enter a number\"))\n",
    "    b= int(input(\"Enter second number:\"))\n",
    "    print(a*b)\n",
    "except ValueError as e:\n",
    "    print(\"invalid input\", e)\n",
    "\n",
    "\n",
    "##task>>>>types of erroe in python error hnadling with code examples"
   ]
  },
  {
   "cell_type": "code",
   "execution_count": 10,
   "id": "c1f7311d",
   "metadata": {},
   "outputs": [
    {
     "name": "stdout",
     "output_type": "stream",
     "text": [
      "125.0\n"
     ]
    }
   ],
   "source": [
    "try:\n",
    "    a = int(input(\"Enter a number\"))\n",
    "    b= int(input(\"Enter second number:\"))\n",
    "    print(a/b)\n",
    "except Exception as e:\n",
    "    print(e)\n"
   ]
  },
  {
   "cell_type": "code",
   "execution_count": 15,
   "id": "29f48b4e",
   "metadata": {},
   "outputs": [
    {
     "name": "stdout",
     "output_type": "stream",
     "text": [
      "division by zero\n",
      "I will run no matter what\n"
     ]
    }
   ],
   "source": [
    "try:\n",
    "    a = int(input(\"Enter a number:\"))\n",
    "    b = int(input(\"Enter a number:\"))\n",
    "    print(a/b)\n",
    "except Exception  as e:\n",
    "    print(e)\n",
    "else:\n",
    "    print(\"no error\")\n",
    "    print(a*b)\n",
    "finally:\n",
    "    print(\"I will run no matter what\")"
   ]
  },
  {
   "cell_type": "code",
   "execution_count": 19,
   "id": "f96ab82e",
   "metadata": {},
   "outputs": [
    {
     "name": "stdout",
     "output_type": "stream",
     "text": [
      "final results:  20.0\n",
      "Thanks for using our services\n"
     ]
    }
   ],
   "source": [
    "try:\n",
    "    num1 = int(input(\"enter a number:\"))\n",
    "    num2 = int(input(\"enter a number:\"))\n",
    "    result = num1/num2\n",
    "except ZeroDivisionError as e:\n",
    "    print(e)\n",
    "except ValueError as e:\n",
    "    print(e)\n",
    "except Exception as e:\n",
    "    print(e)\n",
    "else:\n",
    "    print(\"final results: \",result)\n",
    "finally:\n",
    "    print(\"Thanks for using our services\")"
   ]
  },
  {
   "cell_type": "code",
   "execution_count": 3,
   "id": "03629282",
   "metadata": {},
   "outputs": [
    {
     "name": "stdout",
     "output_type": "stream",
     "text": [
      "Variable 'x' is not defined\n"
     ]
    }
   ],
   "source": [
    "try:\n",
    "    print(v)\n",
    "except NameError:\n",
    "    print(\"Variable 'x' is not defined\")"
   ]
  },
  {
   "cell_type": "code",
   "execution_count": null,
   "id": "de544cec",
   "metadata": {},
   "outputs": [],
   "source": []
  }
 ],
 "metadata": {
  "kernelspec": {
   "display_name": "Python 3",
   "language": "python",
   "name": "python3"
  },
  "language_info": {
   "codemirror_mode": {
    "name": "ipython",
    "version": 3
   },
   "file_extension": ".py",
   "mimetype": "text/x-python",
   "name": "python",
   "nbconvert_exporter": "python",
   "pygments_lexer": "ipython3",
   "version": "3.11.9"
  }
 },
 "nbformat": 4,
 "nbformat_minor": 5
}
