{
 "cells": [
  {
   "cell_type": "markdown",
   "id": "4baf082d",
   "metadata": {},
   "source": [
    "#CONDITIONAL STATEMENT\n",
    "* IF, ELSE, ELIF\n",
    "\n",
    "Syntax:\n",
    "id condition1 :# code to execute if condition 1 is true."
   ]
  },
  {
   "cell_type": "code",
   "execution_count": null,
   "id": "e34d85cb",
   "metadata": {},
   "outputs": [
    {
     "name": "stdout",
     "output_type": "stream",
     "text": [
      "x is smaller than 10\n"
     ]
    }
   ],
   "source": [
    "x = 0\n",
    "if x<10: ##condition\n",
    "    print(\"x is smaller than 10\") ##block of code"
   ]
  },
  {
   "cell_type": "code",
   "execution_count": 2,
   "id": "0c32cef3",
   "metadata": {},
   "outputs": [
    {
     "data": {
      "text/plain": [
       "10"
      ]
     },
     "execution_count": 2,
     "metadata": {},
     "output_type": "execute_result"
    }
   ],
   "source": [
    "a  = 10\n",
    "a\n"
   ]
  },
  {
   "cell_type": "code",
   "execution_count": 6,
   "id": "a6735dec",
   "metadata": {},
   "outputs": [
    {
     "name": "stdout",
     "output_type": "stream",
     "text": [
      "x is bigger than 10\n"
     ]
    }
   ],
   "source": [
    "x = 20\n",
    "if x<10: ##condition\n",
    "    print(\"x is smaller than 10\") ##block of code\n",
    "else:\n",
    "    print(\"x is bigger than 10\")"
   ]
  },
  {
   "cell_type": "code",
   "execution_count": 7,
   "id": "ef7feb8e",
   "metadata": {},
   "outputs": [
    {
     "name": "stdout",
     "output_type": "stream",
     "text": [
      "x value is 20\n"
     ]
    }
   ],
   "source": [
    "x = 20\n",
    "if x<10: ##condition\n",
    "    print(\"x is smaller than 10\") ##block of code\n",
    "elif x==20:\n",
    "    print(\"x value is 20\")\n",
    "else:\n",
    "    print(\"x is bigger than 10\")"
   ]
  },
  {
   "cell_type": "code",
   "execution_count": 13,
   "id": "b7feed6d",
   "metadata": {},
   "outputs": [
    {
     "name": "stdout",
     "output_type": "stream",
     "text": [
      "You are eligible to vote\n"
     ]
    }
   ],
   "source": [
    "x=20\n",
    "if x>18:\n",
    "    print(\"You are eligible to vote\")\n",
    "else:\n",
    "    print(\"You are not eligible to vote\")"
   ]
  },
  {
   "cell_type": "code",
   "execution_count": null,
   "id": "02b2f313",
   "metadata": {},
   "outputs": [],
   "source": [
    "#Find the largest number\n",
    "#check even or odd\n",
    "#leap year checker\n",
    "#grading System\n",
    "#90 &above :Grade a\n",
    "#75 to 89: Grade B\n",
    "#Below 60:Grade D\n",
    "#Find the largest of 3 number\n",
    "\n",
    "##traffic light system\n",
    "# Traffic Light System\n",
    "# Write a program that takes the color of a traffic light as input (red, yellow, green) and prints the corresponding action:\n",
    "\n",
    "# Red → Stop\n",
    "\n",
    "# Yellow → Wait\n",
    "\n",
    "# Green → Go"
   ]
  },
  {
   "cell_type": "code",
   "execution_count": 17,
   "id": "8843372a",
   "metadata": {},
   "outputs": [
    {
     "name": "stdout",
     "output_type": "stream",
     "text": [
      "x value is 20\n"
     ]
    }
   ],
   "source": [
    "x = 20\n",
    "if (x<10): ##condition\n",
    "    print(\"x is smaller than 10\") ##block of code\n",
    "elif (x==20):\n",
    "    print(\"x value is 20\")\n",
    "else:\n",
    "    print(\"x is bigger than 10\")"
   ]
  },
  {
   "cell_type": "code",
   "execution_count": null,
   "id": "6772e7a0",
   "metadata": {},
   "outputs": [],
   "source": []
  }
 ],
 "metadata": {
  "kernelspec": {
   "display_name": "Python 3",
   "language": "python",
   "name": "python3"
  },
  "language_info": {
   "codemirror_mode": {
    "name": "ipython",
    "version": 3
   },
   "file_extension": ".py",
   "mimetype": "text/x-python",
   "name": "python",
   "nbconvert_exporter": "python",
   "pygments_lexer": "ipython3",
   "version": "3.11.9"
  }
 },
 "nbformat": 4,
 "nbformat_minor": 5
}
