{
 "cells": [
  {
   "cell_type": "markdown",
   "id": "2e93a289",
   "metadata": {},
   "source": [
    "#OS MODEL"
   ]
  },
  {
   "cell_type": "code",
   "execution_count": 1,
   "id": "f7573b95",
   "metadata": {},
   "outputs": [],
   "source": [
    "import os"
   ]
  },
  {
   "cell_type": "code",
   "execution_count": 6,
   "id": "35e7a3da",
   "metadata": {},
   "outputs": [
    {
     "name": "stdout",
     "output_type": "stream",
     "text": [
      "c:\\Users\\Sidra Hussain\\Desktop\\New folder (4)\\OS\n"
     ]
    }
   ],
   "source": [
    "file = os.getcwd()\n",
    "print(file)"
   ]
  },
  {
   "cell_type": "code",
   "execution_count": 4,
   "id": "da9a2e06",
   "metadata": {},
   "outputs": [
    {
     "name": "stdout",
     "output_type": "stream",
     "text": [
      "total file in this directory: c:\\Users\\Sidra Hussain\\Desktop\\New folder (4)\\OS\n"
     ]
    }
   ],
   "source": [
    "os.listdir(r\"c:\\Users\\Sidra Hussain\\Desktop\\New folder (4)\\OS\") ## list all the files inthe director\n",
    "print(\"total file in this directory:\",file)"
   ]
  },
  {
   "cell_type": "code",
   "execution_count": 5,
   "id": "5367abcb",
   "metadata": {},
   "outputs": [
    {
     "name": "stdout",
     "output_type": "stream",
     "text": [
      "total files in this directory:  ['os.ipynb']\n"
     ]
    }
   ],
   "source": [
    "file = os.listdir(r\"c:\\Users\\Sidra Hussain\\Desktop\\New folder (4)\\OS\")\n",
    "print(\"total files in this directory: \",file)"
   ]
  },
  {
   "cell_type": "code",
   "execution_count": 11,
   "id": "317fe9f2",
   "metadata": {},
   "outputs": [
    {
     "data": {
      "text/plain": [
       "['10th marksheet.pdf',\n",
       " '12th marksheet.pdf',\n",
       " '220222148.pdf',\n",
       " '2219723.pdf',\n",
       " '2219723_2 (2) (1) (2).pdf',\n",
       " '2219723_2 (2) (1).docx',\n",
       " '2D ludo',\n",
       " '2DLUDOPROJECT REPORT.docx',\n",
       " '2DLUDOPROJECT_REPORT[1].docx',\n",
       " 'agreement_Sidra_Hussain_1731909507.pdf',\n",
       " 'AI images',\n",
       " 'ASSIGNMENT 5.docx',\n",
       " 'ASSIGNMENT DIP-2.pdf',\n",
       " 'AWS.pdf',\n",
       " 'bubble sort.c',\n",
       " 'category-compressed.pdf',\n",
       " 'CD FILE.docx',\n",
       " 'cdfile.docx',\n",
       " 'CDOUTPUTS.docx',\n",
       " 'CDOUTPUTS[1].docx',\n",
       " 'certificate.pdf',\n",
       " 'Certificates.pdf',\n",
       " 'Cisco Packet Tracer.lnk',\n",
       " 'CodeBlocks',\n",
       " 'CodeBlocks.lnk',\n",
       " 'Compiler Design',\n",
       " 'COURSERA CERTIFICATES.pdf',\n",
       " 'Coursera PZPP6WX4V3SZ.pdf',\n",
       " 'Cyber security workshop',\n",
       " 'DAA_LAB_PERFORMA.pdf',\n",
       " 'desktop.ini',\n",
       " 'desktop.jpg',\n",
       " 'devcpp.exe',\n",
       " 'Document 2 (3) (1).pdf',\n",
       " 'Document 2 (3).docx',\n",
       " 'Document 2 (3).pdf',\n",
       " 'Downloads - Shortcut (2).lnk',\n",
       " 'Downloads - Shortcut.lnk',\n",
       " 'Drawing2.dwg',\n",
       " 'falafel.jpeg',\n",
       " 'fibonacci.c',\n",
       " 'files',\n",
       " 'Final.pdf',\n",
       " 'google.pdf',\n",
       " 'Gradesheet.pdf',\n",
       " 'IBM.pdf',\n",
       " 'INTRODUCTION TO C.pdf',\n",
       " 'Introduction-to-Age-and-Gender-Detection-using-OpenCV.pptx',\n",
       " 'Introduction-to-Communicative-English.pptx',\n",
       " 'java_file[1].docx',\n",
       " 'JOINING REPORT.pdf',\n",
       " 'Ludo2DSimple PYTHON',\n",
       " 'marksheet.pdf',\n",
       " 'Microsoft Edge.lnk',\n",
       " 'migration certificate.pdf',\n",
       " 'MinGW Installer.lnk',\n",
       " 'miniprojectppt.pdf',\n",
       " 'ML File.pdf',\n",
       " 'ML Lab.zip',\n",
       " 'New folder',\n",
       " 'New folder (2)',\n",
       " 'New folder (3)',\n",
       " 'New folder (4)',\n",
       " 'OfferGoose.lnk',\n",
       " 'OOPS WITH C++.docx',\n",
       " 'OOPS_LAB_MANUAL_FORMAT_2023-_first_two_pages[1].docx',\n",
       " 'ospf.pkt',\n",
       " 'pan card.pdf',\n",
       " 'PAPA DOC',\n",
       " 'payment.jpg',\n",
       " 'paymentdetails.jpg',\n",
       " 'PCS251_Lab.txt',\n",
       " 'Plato.lnk',\n",
       " 'process.py',\n",
       " 'processscheduler.py',\n",
       " 'project react',\n",
       " 'Project Synopsis (1).pdf',\n",
       " 'Project Synopsis.docx',\n",
       " 'project.py',\n",
       " 'Project_Proposal.docx',\n",
       " 'PyCharm 2023.2.1',\n",
       " 'PYTHON.pdf',\n",
       " 'REPORTS',\n",
       " 'request.pdf',\n",
       " 'RESEARCH PAPER.docx',\n",
       " 'Resume 2024.doc',\n",
       " 'resume.docx',\n",
       " 'room.mp4',\n",
       " 'RptStuMarksheetGEU.pdf',\n",
       " 'RptStuMarksheetGEUNew.docx',\n",
       " 'scheduler.py',\n",
       " 'sidduproject',\n",
       " 'Sidra (Person 1) - Chrome.lnk',\n",
       " 'sidra hussain',\n",
       " 'Sidra Hussain resume 2024.docx',\n",
       " 'SIDRA HUSSAIN.docx',\n",
       " 'SIDRA HUSSAIN.pdf',\n",
       " 'Sidra Hussain_49.docx',\n",
       " 'Sidra Hussain_49.pdf',\n",
       " 'SIDRA MINI_PROJECT_REPORT[1].doc',\n",
       " 'sidra.c',\n",
       " 'SidraAssignment1.pdf',\n",
       " 'Sidracdfile.docx',\n",
       " 'SidraHussain_49.pdf',\n",
       " 'Sidrahussain_71.doc',\n",
       " 'sidraproject',\n",
       " 'SIDRA_ASSIGNMENT2.pdf',\n",
       " 'Sidra_ludo_ppt[1].pptx',\n",
       " 'Signature.pdf',\n",
       " 'SIMPLE_2D_LUDO_GAME_IN_PYTHON_WITH_SOURCE_CODE.zip',\n",
       " 'Spotify.lnk',\n",
       " 'static.pkt',\n",
       " 'syllabus CST.pdf',\n",
       " 'Synopsis format.pdf',\n",
       " 'Temp_Project_Proposal.pdf',\n",
       " 'Temp_Project_Proposal[1].docx',\n",
       " 'tower of hanoi.c',\n",
       " 'Typing Master 11.lnk',\n",
       " 'UNIT 3_(File handling in C)_updated[1].pdf',\n",
       " 'UNIT-2.1-(Pointers)[1].pdf',\n",
       " 'Uplay.lnk',\n",
       " 'Vani_MobileDevelp_report.docx',\n",
       " 'VG_Resume(May)[1].docx',\n",
       " 'Visual Studio Code.lnk',\n",
       " 'VR RESEARCH PAPER[1].docx',\n",
       " 'WhatsApp Image 2024-07-06 at 01.30.31_7913ade7.jpg',\n",
       " 'YOLO',\n",
       " '~$D FILE.docx',\n",
       " '~$DRA_DAALAB.docx',\n",
       " '~$oject Synopsis.docx']"
      ]
     },
     "execution_count": 11,
     "metadata": {},
     "output_type": "execute_result"
    }
   ],
   "source": [
    "path = r\"C:\\Users\\Sidra Hussain\\Desktop\"\n",
    "os.listdir(path)"
   ]
  },
  {
   "cell_type": "code",
   "execution_count": null,
   "id": "6cb1927e",
   "metadata": {},
   "outputs": [
    {
     "name": "stdout",
     "output_type": "stream",
     "text": [
      "folder created\n"
     ]
    }
   ],
   "source": [
    "os.mkdir(\"test\") ##it will create a folder named test\n",
    "print(\"folder created\")\n"
   ]
  },
  {
   "cell_type": "code",
   "execution_count": 14,
   "id": "b152ca40",
   "metadata": {},
   "outputs": [
    {
     "data": {
      "text/plain": [
       "['os.ipynb', 'test']"
      ]
     },
     "execution_count": 14,
     "metadata": {},
     "output_type": "execute_result"
    }
   ],
   "source": [
    "os.listdir(os.getcwd())"
   ]
  },
  {
   "cell_type": "code",
   "execution_count": 15,
   "id": "76ee1da7",
   "metadata": {},
   "outputs": [
    {
     "name": "stdout",
     "output_type": "stream",
     "text": [
      "Folder renamed successfully\n"
     ]
    }
   ],
   "source": [
    "os.rename(\"test\",\"Data Science\")\n",
    "print(\"Folder renamed successfully\")"
   ]
  },
  {
   "cell_type": "code",
   "execution_count": 16,
   "id": "412e5c2d",
   "metadata": {},
   "outputs": [
    {
     "data": {
      "text/plain": [
       "['Data Science', 'os.ipynb']"
      ]
     },
     "execution_count": 16,
     "metadata": {},
     "output_type": "execute_result"
    }
   ],
   "source": [
    "os.listdir(os.getcwd())"
   ]
  },
  {
   "cell_type": "code",
   "execution_count": 17,
   "id": "33243169",
   "metadata": {},
   "outputs": [
    {
     "name": "stdout",
     "output_type": "stream",
     "text": [
      "Folder deleted successfully\n"
     ]
    }
   ],
   "source": [
    "os.rmdir(\"Data Science\")\n",
    "print(\"Folder deleted successfully\")"
   ]
  },
  {
   "cell_type": "code",
   "execution_count": 18,
   "id": "f2b9b129",
   "metadata": {},
   "outputs": [
    {
     "data": {
      "text/plain": [
       "['os.ipynb']"
      ]
     },
     "execution_count": 18,
     "metadata": {},
     "output_type": "execute_result"
    }
   ],
   "source": [
    "os.listdir(os.getcwd())"
   ]
  },
  {
   "cell_type": "code",
   "execution_count": 19,
   "id": "96d9c4d8",
   "metadata": {},
   "outputs": [
    {
     "data": {
      "text/plain": [
       "'c:\\\\Users\\\\Sidra Hussain\\\\Desktop\\\\New folder (4)\\\\OS'"
      ]
     },
     "execution_count": 19,
     "metadata": {},
     "output_type": "execute_result"
    }
   ],
   "source": [
    "#os.remove(\"filename\")\n",
    "os.getcwd()\n"
   ]
  },
  {
   "cell_type": "code",
   "execution_count": 20,
   "id": "b3750758",
   "metadata": {},
   "outputs": [
    {
     "name": "stdout",
     "output_type": "stream",
     "text": [
      "path exist: c:\\\\Users\\\\Sidra Hussain\\\\Desktop\\\\New folder (4)\\\\OS\n"
     ]
    }
   ],
   "source": [
    "path = r\"c:\\\\Users\\\\Sidra Hussain\\\\Desktop\\\\New folder (4)\\\\OS\"\n",
    "os.environ.get(path)\n",
    "print(\"path exist:\", path)"
   ]
  },
  {
   "cell_type": "code",
   "execution_count": null,
   "id": "36efdd12",
   "metadata": {},
   "outputs": [
    {
     "data": {
      "text/plain": [
       "1"
      ]
     },
     "execution_count": 21,
     "metadata": {},
     "output_type": "execute_result"
    }
   ],
   "source": [
    "#os.system(path)"
   ]
  },
  {
   "cell_type": "code",
   "execution_count": 22,
   "id": "b366266f",
   "metadata": {},
   "outputs": [
    {
     "data": {
      "text/plain": [
       "True"
      ]
     },
     "execution_count": 22,
     "metadata": {},
     "output_type": "execute_result"
    }
   ],
   "source": [
    "path = r\"C:\\Users\\Sidra Hussain\\Desktop\\New folder (4)\\PYTHON\\file_handling.ipynb\"\n",
    "os.path.isfile(path)"
   ]
  },
  {
   "cell_type": "code",
   "execution_count": null,
   "id": "2dc30c10",
   "metadata": {},
   "outputs": [
    {
     "data": {
      "text/plain": [
       "True"
      ]
     },
     "execution_count": 23,
     "metadata": {},
     "output_type": "execute_result"
    }
   ],
   "source": [
    "path = r\"C:\\Users\\Sidra Hussain\\Desktop\\New folder (4)\\PYTHON\"\n",
    "os.path.isdir(path)"
   ]
  },
  {
   "cell_type": "code",
   "execution_count": 28,
   "id": "21dc1d35",
   "metadata": {},
   "outputs": [
    {
     "name": "stdout",
     "output_type": "stream",
     "text": [
      "C:\\Users\\Sidra Hussain\\Desktop\\New folder (4)\\PYTHON\n"
     ]
    },
    {
     "data": {
      "text/plain": [
       "['basic.py',\n",
       " 'conditional.ipynb',\n",
       " 'demo.txt',\n",
       " 'exception.ipynb',\n",
       " 'file_handling.ipynb',\n",
       " 'function.ipynb',\n",
       " 'looping.ipynb',\n",
       " 'oops.ipynb',\n",
       " 'sidra.txt',\n",
       " 'text.txt',\n",
       " 'upflaira.txt']"
      ]
     },
     "execution_count": 28,
     "metadata": {},
     "output_type": "execute_result"
    }
   ],
   "source": [
    "path1 = r\"C:\\Users\\Sidra Hussain\"\n",
    "path2 = r\"Desktop\\New folder (4)\\PYTHON\"\n",
    "complete_path= os.path.join(path1, path2)\n",
    "print(complete_path)\n",
    "os.listdir(complete_path)"
   ]
  },
  {
   "cell_type": "code",
   "execution_count": 29,
   "id": "ab471a01",
   "metadata": {},
   "outputs": [
    {
     "name": "stdout",
     "output_type": "stream",
     "text": [
      "size of the file(in bytes): 4970\n"
     ]
    }
   ],
   "source": [
    "path = r\"C:\\Users\\Sidra Hussain\\Desktop\\New folder (4)\\PYTHON\\looping.ipynb\"\n",
    "size = os.path.getsize(path)\n",
    "print (\"size of the file(in bytes):\",size)"
   ]
  },
  {
   "cell_type": "code",
   "execution_count": 30,
   "id": "b48625c3",
   "metadata": {},
   "outputs": [
    {
     "name": "stdout",
     "output_type": "stream",
     "text": [
      "size of the file(in bytes): 19600\n"
     ]
    }
   ],
   "source": [
    "path = r\"C:\\Users\\Sidra Hussain\\Desktop\\New folder (4)\\PYTHON\\oops.ipynb\"\n",
    "size = os.path.getsize(path)\n",
    "print (\"size of the file(in bytes):\",size)\n"
   ]
  },
  {
   "cell_type": "code",
   "execution_count": 31,
   "id": "a6cbe166",
   "metadata": {},
   "outputs": [
    {
     "name": "stdout",
     "output_type": "stream",
     "text": [
      "before dir c:\\Users\\Sidra Hussain\\Desktop\\New folder (4)\\OS\n",
      "after dir  C:\\Users\\Sidra Hussain\\Desktop\\New folder (4)\\PYTHON\n"
     ]
    }
   ],
   "source": [
    "print (\"before dir\",os.getcwd())\n",
    "os.chdir(r\"C:\\Users\\Sidra Hussain\\Desktop\\New folder (4)\\PYTHON\")\n",
    "print(\"after dir \",os.getcwd())"
   ]
  },
  {
   "cell_type": "code",
   "execution_count": null,
   "id": "356a2143",
   "metadata": {},
   "outputs": [],
   "source": []
  }
 ],
 "metadata": {
  "kernelspec": {
   "display_name": "Python 3",
   "language": "python",
   "name": "python3"
  },
  "language_info": {
   "codemirror_mode": {
    "name": "ipython",
    "version": 3
   },
   "file_extension": ".py",
   "mimetype": "text/x-python",
   "name": "python",
   "nbconvert_exporter": "python",
   "pygments_lexer": "ipython3",
   "version": "3.11.9"
  }
 },
 "nbformat": 4,
 "nbformat_minor": 5
}
